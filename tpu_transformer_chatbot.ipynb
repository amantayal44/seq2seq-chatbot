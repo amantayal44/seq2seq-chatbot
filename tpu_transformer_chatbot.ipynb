{
  "nbformat": 4,
  "nbformat_minor": 0,
  "metadata": {
    "colab": {
      "name": "tpu_transformer_chatbot.ipynb",
      "provenance": [],
      "collapsed_sections": [],
      "toc_visible": true,
      "authorship_tag": "ABX9TyOvLa8pLbik60dVMt7+m5zs",
      "include_colab_link": true
    },
    "kernelspec": {
      "name": "python3",
      "display_name": "Python 3"
    },
    "accelerator": "TPU"
  },
  "cells": [
    {
      "cell_type": "markdown",
      "metadata": {
        "id": "view-in-github",
        "colab_type": "text"
      },
      "source": [
        "<a href=\"https://colab.research.google.com/github/amantayal44/seq2seq-chatbot/blob/master/tpu_transformer_chatbot.ipynb\" target=\"_parent\"><img src=\"https://colab.research.google.com/assets/colab-badge.svg\" alt=\"Open In Colab\"/></a>"
      ]
    },
    {
      "cell_type": "markdown",
      "metadata": {
        "id": "VGvbotAxjwk6",
        "colab_type": "text"
      },
      "source": [
        "# Training Transformer using TPUs"
      ]
    },
    {
      "cell_type": "markdown",
      "metadata": {
        "id": "zjjTeemjkCcM",
        "colab_type": "text"
      },
      "source": [
        "In this notebook we train simple transformer model on cornell movie dialogue corpus using TPUs and use it for chatbot task\n",
        "\n",
        "**Note**: Change Runtime type to TPU"
      ]
    },
    {
      "cell_type": "markdown",
      "metadata": {
        "id": "HYCk2u-Zk6so",
        "colab_type": "text"
      },
      "source": [
        "## loading files from git repo"
      ]
    },
    {
      "cell_type": "code",
      "metadata": {
        "id": "LmFavwnOlBXM",
        "colab_type": "code",
        "colab": {
          "base_uri": "https://localhost:8080/",
          "height": 119
        },
        "outputId": "d6222299-b110-4d4b-a881-1b429a829168"
      },
      "source": [
        "!git clone https://github.com/amantayal44/seq2seq-chatbot.git"
      ],
      "execution_count": 1,
      "outputs": [
        {
          "output_type": "stream",
          "text": [
            "Cloning into 'seq2seq-chatbot'...\n",
            "remote: Enumerating objects: 10, done.\u001b[K\n",
            "remote: Counting objects: 100% (10/10), done.\u001b[K\n",
            "remote: Compressing objects: 100% (7/7), done.\u001b[K\n",
            "remote: Total 10 (delta 1), reused 10 (delta 1), pack-reused 0\u001b[K\n",
            "Unpacking objects: 100% (10/10), done.\n"
          ],
          "name": "stdout"
        }
      ]
    },
    {
      "cell_type": "code",
      "metadata": {
        "id": "B_R8dD3Vrsy6",
        "colab_type": "code",
        "colab": {}
      },
      "source": [
        "!cp seq2seq-chatbot/* ."
      ],
      "execution_count": 4,
      "outputs": []
    },
    {
      "cell_type": "code",
      "metadata": {
        "id": "kTq_fAGOBJdT",
        "colab_type": "code",
        "colab": {}
      },
      "source": [
        "import tensorflow as tf\n",
        "import tensorflow_datasets as tfds\n",
        "import numpy as np\n",
        "import matplotlib.pyplot as plt\n",
        "from dataset import *\n",
        "from main import *\n",
        "from model import *"
      ],
      "execution_count": 5,
      "outputs": []
    },
    {
      "cell_type": "markdown",
      "metadata": {
        "id": "hoVIrlFkm3OV",
        "colab_type": "text"
      },
      "source": [
        "## TPU/GPU initialization"
      ]
    },
    {
      "cell_type": "code",
      "metadata": {
        "id": "ztonasfVBvUv",
        "colab_type": "code",
        "colab": {
          "base_uri": "https://localhost:8080/",
          "height": 751
        },
        "outputId": "a8cff88d-2fe3-4490-8111-4769f38ed7bf"
      },
      "source": [
        "try:\n",
        "    tpu = tf.distribute.cluster_resolver.TPUClusterResolver()\n",
        "    print('Running on TPU {}'.format(tpu.cluster_spec().as_dict()['worker']))\n",
        "except ValueError:\n",
        "    tpu = None\n",
        "\n",
        "if tpu:\n",
        "    tf.config.experimental_connect_to_cluster(tpu)\n",
        "    tf.tpu.experimental.initialize_tpu_system(tpu)\n",
        "    strategy = tf.distribute.experimental.TPUStrategy(tpu)\n",
        "else:\n",
        "    strategy = tf.distribute.get_strategy()\n",
        "\n",
        "print(\"REPLICAS: {}\".format(strategy.num_replicas_in_sync))"
      ],
      "execution_count": null,
      "outputs": [
        {
          "output_type": "stream",
          "text": [
            "Running on TPU ['10.88.55.42:8470']\n",
            "INFO:tensorflow:Initializing the TPU system: grpc://10.88.55.42:8470\n"
          ],
          "name": "stdout"
        },
        {
          "output_type": "stream",
          "text": [
            "INFO:tensorflow:Initializing the TPU system: grpc://10.88.55.42:8470\n"
          ],
          "name": "stderr"
        },
        {
          "output_type": "stream",
          "text": [
            "INFO:tensorflow:Clearing out eager caches\n"
          ],
          "name": "stdout"
        },
        {
          "output_type": "stream",
          "text": [
            "INFO:tensorflow:Clearing out eager caches\n"
          ],
          "name": "stderr"
        },
        {
          "output_type": "stream",
          "text": [
            "INFO:tensorflow:Finished initializing TPU system.\n"
          ],
          "name": "stdout"
        },
        {
          "output_type": "stream",
          "text": [
            "INFO:tensorflow:Finished initializing TPU system.\n"
          ],
          "name": "stderr"
        },
        {
          "output_type": "stream",
          "text": [
            "INFO:tensorflow:Found TPU system:\n"
          ],
          "name": "stdout"
        },
        {
          "output_type": "stream",
          "text": [
            "INFO:tensorflow:Found TPU system:\n"
          ],
          "name": "stderr"
        },
        {
          "output_type": "stream",
          "text": [
            "INFO:tensorflow:*** Num TPU Cores: 8\n"
          ],
          "name": "stdout"
        },
        {
          "output_type": "stream",
          "text": [
            "INFO:tensorflow:*** Num TPU Cores: 8\n"
          ],
          "name": "stderr"
        },
        {
          "output_type": "stream",
          "text": [
            "INFO:tensorflow:*** Num TPU Workers: 1\n"
          ],
          "name": "stdout"
        },
        {
          "output_type": "stream",
          "text": [
            "INFO:tensorflow:*** Num TPU Workers: 1\n"
          ],
          "name": "stderr"
        },
        {
          "output_type": "stream",
          "text": [
            "INFO:tensorflow:*** Num TPU Cores Per Worker: 8\n"
          ],
          "name": "stdout"
        },
        {
          "output_type": "stream",
          "text": [
            "INFO:tensorflow:*** Num TPU Cores Per Worker: 8\n"
          ],
          "name": "stderr"
        },
        {
          "output_type": "stream",
          "text": [
            "INFO:tensorflow:*** Available Device: _DeviceAttributes(/job:localhost/replica:0/task:0/device:CPU:0, CPU, 0, 0)\n"
          ],
          "name": "stdout"
        },
        {
          "output_type": "stream",
          "text": [
            "INFO:tensorflow:*** Available Device: _DeviceAttributes(/job:localhost/replica:0/task:0/device:CPU:0, CPU, 0, 0)\n"
          ],
          "name": "stderr"
        },
        {
          "output_type": "stream",
          "text": [
            "INFO:tensorflow:*** Available Device: _DeviceAttributes(/job:localhost/replica:0/task:0/device:XLA_CPU:0, XLA_CPU, 0, 0)\n"
          ],
          "name": "stdout"
        },
        {
          "output_type": "stream",
          "text": [
            "INFO:tensorflow:*** Available Device: _DeviceAttributes(/job:localhost/replica:0/task:0/device:XLA_CPU:0, XLA_CPU, 0, 0)\n"
          ],
          "name": "stderr"
        },
        {
          "output_type": "stream",
          "text": [
            "INFO:tensorflow:*** Available Device: _DeviceAttributes(/job:worker/replica:0/task:0/device:CPU:0, CPU, 0, 0)\n"
          ],
          "name": "stdout"
        },
        {
          "output_type": "stream",
          "text": [
            "INFO:tensorflow:*** Available Device: _DeviceAttributes(/job:worker/replica:0/task:0/device:CPU:0, CPU, 0, 0)\n"
          ],
          "name": "stderr"
        },
        {
          "output_type": "stream",
          "text": [
            "INFO:tensorflow:*** Available Device: _DeviceAttributes(/job:worker/replica:0/task:0/device:TPU:0, TPU, 0, 0)\n"
          ],
          "name": "stdout"
        },
        {
          "output_type": "stream",
          "text": [
            "INFO:tensorflow:*** Available Device: _DeviceAttributes(/job:worker/replica:0/task:0/device:TPU:0, TPU, 0, 0)\n"
          ],
          "name": "stderr"
        },
        {
          "output_type": "stream",
          "text": [
            "INFO:tensorflow:*** Available Device: _DeviceAttributes(/job:worker/replica:0/task:0/device:TPU:1, TPU, 0, 0)\n"
          ],
          "name": "stdout"
        },
        {
          "output_type": "stream",
          "text": [
            "INFO:tensorflow:*** Available Device: _DeviceAttributes(/job:worker/replica:0/task:0/device:TPU:1, TPU, 0, 0)\n"
          ],
          "name": "stderr"
        },
        {
          "output_type": "stream",
          "text": [
            "INFO:tensorflow:*** Available Device: _DeviceAttributes(/job:worker/replica:0/task:0/device:TPU:2, TPU, 0, 0)\n"
          ],
          "name": "stdout"
        },
        {
          "output_type": "stream",
          "text": [
            "INFO:tensorflow:*** Available Device: _DeviceAttributes(/job:worker/replica:0/task:0/device:TPU:2, TPU, 0, 0)\n"
          ],
          "name": "stderr"
        },
        {
          "output_type": "stream",
          "text": [
            "INFO:tensorflow:*** Available Device: _DeviceAttributes(/job:worker/replica:0/task:0/device:TPU:3, TPU, 0, 0)\n"
          ],
          "name": "stdout"
        },
        {
          "output_type": "stream",
          "text": [
            "INFO:tensorflow:*** Available Device: _DeviceAttributes(/job:worker/replica:0/task:0/device:TPU:3, TPU, 0, 0)\n"
          ],
          "name": "stderr"
        },
        {
          "output_type": "stream",
          "text": [
            "INFO:tensorflow:*** Available Device: _DeviceAttributes(/job:worker/replica:0/task:0/device:TPU:4, TPU, 0, 0)\n"
          ],
          "name": "stdout"
        },
        {
          "output_type": "stream",
          "text": [
            "INFO:tensorflow:*** Available Device: _DeviceAttributes(/job:worker/replica:0/task:0/device:TPU:4, TPU, 0, 0)\n"
          ],
          "name": "stderr"
        },
        {
          "output_type": "stream",
          "text": [
            "INFO:tensorflow:*** Available Device: _DeviceAttributes(/job:worker/replica:0/task:0/device:TPU:5, TPU, 0, 0)\n"
          ],
          "name": "stdout"
        },
        {
          "output_type": "stream",
          "text": [
            "INFO:tensorflow:*** Available Device: _DeviceAttributes(/job:worker/replica:0/task:0/device:TPU:5, TPU, 0, 0)\n"
          ],
          "name": "stderr"
        },
        {
          "output_type": "stream",
          "text": [
            "INFO:tensorflow:*** Available Device: _DeviceAttributes(/job:worker/replica:0/task:0/device:TPU:6, TPU, 0, 0)\n"
          ],
          "name": "stdout"
        },
        {
          "output_type": "stream",
          "text": [
            "INFO:tensorflow:*** Available Device: _DeviceAttributes(/job:worker/replica:0/task:0/device:TPU:6, TPU, 0, 0)\n"
          ],
          "name": "stderr"
        },
        {
          "output_type": "stream",
          "text": [
            "INFO:tensorflow:*** Available Device: _DeviceAttributes(/job:worker/replica:0/task:0/device:TPU:7, TPU, 0, 0)\n"
          ],
          "name": "stdout"
        },
        {
          "output_type": "stream",
          "text": [
            "INFO:tensorflow:*** Available Device: _DeviceAttributes(/job:worker/replica:0/task:0/device:TPU:7, TPU, 0, 0)\n"
          ],
          "name": "stderr"
        },
        {
          "output_type": "stream",
          "text": [
            "INFO:tensorflow:*** Available Device: _DeviceAttributes(/job:worker/replica:0/task:0/device:TPU_SYSTEM:0, TPU_SYSTEM, 0, 0)\n"
          ],
          "name": "stdout"
        },
        {
          "output_type": "stream",
          "text": [
            "INFO:tensorflow:*** Available Device: _DeviceAttributes(/job:worker/replica:0/task:0/device:TPU_SYSTEM:0, TPU_SYSTEM, 0, 0)\n"
          ],
          "name": "stderr"
        },
        {
          "output_type": "stream",
          "text": [
            "INFO:tensorflow:*** Available Device: _DeviceAttributes(/job:worker/replica:0/task:0/device:XLA_CPU:0, XLA_CPU, 0, 0)\n"
          ],
          "name": "stdout"
        },
        {
          "output_type": "stream",
          "text": [
            "INFO:tensorflow:*** Available Device: _DeviceAttributes(/job:worker/replica:0/task:0/device:XLA_CPU:0, XLA_CPU, 0, 0)\n"
          ],
          "name": "stderr"
        },
        {
          "output_type": "stream",
          "text": [
            "REPLICAS: 8\n"
          ],
          "name": "stdout"
        }
      ]
    },
    {
      "cell_type": "markdown",
      "metadata": {
        "id": "4wcqnosKnGhM",
        "colab_type": "text"
      },
      "source": [
        "## Loading Dataset"
      ]
    },
    {
      "cell_type": "markdown",
      "metadata": {
        "id": "uBz9PqgcnNTT",
        "colab_type": "text"
      },
      "source": [
        "We use max samples 70,000 so after filtering and spliting in test,train dataset, train dataset has about 50,000 examples"
      ]
    },
    {
      "cell_type": "code",
      "metadata": {
        "id": "Y4qS2dqzBz7k",
        "colab_type": "code",
        "colab": {
          "base_uri": "https://localhost:8080/",
          "height": 51
        },
        "outputId": "a5ccce08-3d82-4d75-862c-6270798a8302"
      },
      "source": [
        "max_samples = 70000\n",
        "max_length = 40\n",
        "batch_size = 64* strategy.num_replicas_in_sync\n",
        "\n",
        "dataset,test_dataset,tokenizer,meta = get_dataset(max_samples,max_length,batch_size,validation_split = 0.2)"
      ],
      "execution_count": null,
      "outputs": [
        {
          "output_type": "stream",
          "text": [
            "Downloading data from http://www.cs.cornell.edu/~cristian/data/cornell_movie_dialogs_corpus.zip\n",
            "9920512/9916637 [==============================] - 1s 0us/step\n"
          ],
          "name": "stdout"
        }
      ]
    },
    {
      "cell_type": "code",
      "metadata": {
        "id": "7BdKCzCRnudj",
        "colab_type": "code",
        "colab": {
          "base_uri": "https://localhost:8080/",
          "height": 34
        },
        "outputId": "b5b75a66-93e1-4f56-fac3-dc2629a7ccb2"
      },
      "source": [
        "#train_dataset size\n",
        "len(list(dataset.as_numpy_iterator())) * batch_size"
      ],
      "execution_count": null,
      "outputs": [
        {
          "output_type": "execute_result",
          "data": {
            "text/plain": [
              "49152"
            ]
          },
          "metadata": {
            "tags": []
          },
          "execution_count": 4
        }
      ]
    },
    {
      "cell_type": "markdown",
      "metadata": {
        "id": "31l4S6nOnt-6",
        "colab_type": "text"
      },
      "source": [
        " ## Hyperparameters "
      ]
    },
    {
      "cell_type": "code",
      "metadata": {
        "id": "Q_F-nGvPCwC-",
        "colab_type": "code",
        "colab": {}
      },
      "source": [
        "d_model = 256\n",
        "dff = 1024\n",
        "num_layers = 4\n",
        "num_heads = 8\n",
        "vocab_size = meta['vocab_size']"
      ],
      "execution_count": null,
      "outputs": []
    },
    {
      "cell_type": "markdown",
      "metadata": {
        "id": "Wha9LglZoIpO",
        "colab_type": "text"
      },
      "source": [
        "## Loss and Accuracy function"
      ]
    },
    {
      "cell_type": "code",
      "metadata": {
        "id": "ZJZLXh5SDwop",
        "colab_type": "code",
        "colab": {}
      },
      "source": [
        "def loss_function(y_true, y_pred):\n",
        "  y_true = tf.reshape(y_true, shape=(-1, max_length - 1))\n",
        "  loss = tf.keras.losses.SparseCategoricalCrossentropy(\n",
        "      from_logits=True, reduction='none')(y_true, y_pred)\n",
        "\n",
        "  mask = tf.cast(tf.not_equal(y_true, 0), tf.float32)\n",
        "  loss = tf.multiply(loss, mask)\n",
        "\n",
        "  return tf.reduce_mean(loss)"
      ],
      "execution_count": null,
      "outputs": []
    },
    {
      "cell_type": "code",
      "metadata": {
        "id": "j9pIRiIsEX7B",
        "colab_type": "code",
        "colab": {}
      },
      "source": [
        "def accuracy(y_true, y_pred):\n",
        "  y_true = tf.reshape(y_true, shape=(-1, max_length - 1))\n",
        "  return tf.keras.metrics.sparse_categorical_accuracy(y_true, y_pred)\n"
      ],
      "execution_count": null,
      "outputs": []
    },
    {
      "cell_type": "markdown",
      "metadata": {
        "id": "K1Oa3TNuoYU7",
        "colab_type": "text"
      },
      "source": [
        "## Optimizer for transformer\n",
        "transformer has optimizer with custom learning rate"
      ]
    },
    {
      "cell_type": "code",
      "metadata": {
        "id": "VgcbEXUYEju2",
        "colab_type": "code",
        "colab": {}
      },
      "source": [
        "optimizer = tf.keras.optimizers.Adam(\n",
        "        CustomSchedule(d_model),beta_1=0.9, beta_2=0.98, epsilon=1e-9)"
      ],
      "execution_count": null,
      "outputs": []
    },
    {
      "cell_type": "markdown",
      "metadata": {
        "id": "_aqPS4oqpQN-",
        "colab_type": "text"
      },
      "source": [
        "## Initializing and compiling transformer model"
      ]
    },
    {
      "cell_type": "code",
      "metadata": {
        "id": "2314tWSkErwo",
        "colab_type": "code",
        "colab": {}
      },
      "source": [
        "tf.keras.backend.clear_session()\n",
        "\n",
        "with strategy.scope():\n",
        "  model = transformer(d_model,vocab_size,num_layers,num_heads,dff)\n",
        "  model.compile(optimizer=optimizer,loss=loss_function,metrics=[accuracy])"
      ],
      "execution_count": null,
      "outputs": []
    },
    {
      "cell_type": "code",
      "metadata": {
        "id": "B7KeosvLEujC",
        "colab_type": "code",
        "colab": {
          "base_uri": "https://localhost:8080/",
          "height": 493
        },
        "outputId": "a0558064-c199-407a-e7b1-6a4252f29db5"
      },
      "source": [
        "model.summary()"
      ],
      "execution_count": null,
      "outputs": [
        {
          "output_type": "stream",
          "text": [
            "Model: \"transformer\"\n",
            "__________________________________________________________________________________________________\n",
            "Layer (type)                    Output Shape         Param #     Connected to                     \n",
            "==================================================================================================\n",
            "encoder_inputs (InputLayer)     [(None, None)]       0                                            \n",
            "__________________________________________________________________________________________________\n",
            "decoder_inputs (InputLayer)     [(None, None)]       0                                            \n",
            "__________________________________________________________________________________________________\n",
            "enc_padding_mask (PaddingMask)  (None, 1, 1, None)   0           encoder_inputs[0][0]             \n",
            "__________________________________________________________________________________________________\n",
            "encoder (Model)                 (None, None, 256)    5235456     encoder_inputs[0][0]             \n",
            "                                                                 enc_padding_mask[0][0]           \n",
            "__________________________________________________________________________________________________\n",
            "dec_look_ahead_mask (LookAheadM (None, 1, None, None 0           decoder_inputs[0][0]             \n",
            "__________________________________________________________________________________________________\n",
            "dec_padding_mask (PaddingMask)  (None, 1, 1, None)   0           encoder_inputs[0][0]             \n",
            "__________________________________________________________________________________________________\n",
            "decoder (Model)                 (None, None, 256)    6290176     decoder_inputs[0][0]             \n",
            "                                                                 encoder[1][0]                    \n",
            "                                                                 dec_look_ahead_mask[0][0]        \n",
            "                                                                 dec_padding_mask[0][0]           \n",
            "__________________________________________________________________________________________________\n",
            "Output (Dense)                  (None, None, 8111)   2084527     decoder[1][0]                    \n",
            "==================================================================================================\n",
            "Total params: 13,610,159\n",
            "Trainable params: 13,610,159\n",
            "Non-trainable params: 0\n",
            "__________________________________________________________________________________________________\n"
          ],
          "name": "stdout"
        }
      ]
    },
    {
      "cell_type": "code",
      "metadata": {
        "id": "E6tOEiFwFQr_",
        "colab_type": "code",
        "colab": {
          "base_uri": "https://localhost:8080/",
          "height": 366
        },
        "outputId": "88369f47-344c-49e8-d21e-87af1303bcca"
      },
      "source": [
        "tf.keras.utils.plot_model(model,show_shapes=True)"
      ],
      "execution_count": null,
      "outputs": [
        {
          "output_type": "execute_result",
          "data": {
            "image/png": "[encoded data removed]",
            "text/plain": [
              "<IPython.core.display.Image object>"
            ]
          },
          "metadata": {
            "tags": []
          },
          "execution_count": 12
        }
      ]
    },
    {
      "cell_type": "markdown",
      "metadata": {
        "id": "aWdG0DzqrQHb",
        "colab_type": "text"
      },
      "source": [
        "## Training"
      ]
    },
    {
      "cell_type": "code",
      "metadata": {
        "id": "OLxuhm5BFTW6",
        "colab_type": "code",
        "colab": {
          "base_uri": "https://localhost:8080/",
          "height": 1000
        },
        "outputId": "bf199112-8903-4c55-e416-cbe06dde8c2a"
      },
      "source": [
        "Epochs = 40\n",
        "history = model.fit(dataset,epochs=Epochs,validation_data=test_dataset)"
      ],
      "execution_count": null,
      "outputs": [
        {
          "output_type": "stream",
          "text": [
            "Epoch 1/40\n",
            "96/96 [==============================] - 41s 431ms/step - accuracy: 0.0175 - loss: 2.8046 - val_accuracy: 0.0256 - val_loss: 2.6651\n",
            "Epoch 2/40\n",
            "96/96 [==============================] - 9s 89ms/step - accuracy: 0.0256 - loss: 2.5372 - val_accuracy: 0.0256 - val_loss: 2.3282\n",
            "Epoch 3/40\n",
            "96/96 [==============================] - 8s 88ms/step - accuracy: 0.0353 - loss: 2.1614 - val_accuracy: 0.0447 - val_loss: 1.9828\n",
            "Epoch 4/40\n",
            "96/96 [==============================] - 9s 89ms/step - accuracy: 0.0530 - loss: 1.8956 - val_accuracy: 0.0650 - val_loss: 1.7776\n",
            "Epoch 5/40\n",
            "96/96 [==============================] - 9s 89ms/step - accuracy: 0.0678 - loss: 1.7112 - val_accuracy: 0.0724 - val_loss: 1.6155\n",
            "Epoch 6/40\n",
            "96/96 [==============================] - 9s 89ms/step - accuracy: 0.0746 - loss: 1.5828 - val_accuracy: 0.0777 - val_loss: 1.5258\n",
            "Epoch 7/40\n",
            "96/96 [==============================] - 9s 89ms/step - accuracy: 0.0786 - loss: 1.5103 - val_accuracy: 0.0808 - val_loss: 1.4747\n",
            "Epoch 8/40\n",
            "96/96 [==============================] - 9s 89ms/step - accuracy: 0.0814 - loss: 1.4641 - val_accuracy: 0.0831 - val_loss: 1.4412\n",
            "Epoch 9/40\n",
            "96/96 [==============================] - 9s 91ms/step - accuracy: 0.0840 - loss: 1.4297 - val_accuracy: 0.0847 - val_loss: 1.4173\n",
            "Epoch 10/40\n",
            "96/96 [==============================] - 9s 89ms/step - accuracy: 0.0862 - loss: 1.4004 - val_accuracy: 0.0864 - val_loss: 1.3958\n",
            "Epoch 11/40\n",
            "96/96 [==============================] - 9s 90ms/step - accuracy: 0.0883 - loss: 1.3736 - val_accuracy: 0.0869 - val_loss: 1.3829\n",
            "Epoch 12/40\n",
            "96/96 [==============================] - 9s 89ms/step - accuracy: 0.0903 - loss: 1.3495 - val_accuracy: 0.0873 - val_loss: 1.3689\n",
            "Epoch 13/40\n",
            "96/96 [==============================] - 8s 88ms/step - accuracy: 0.0923 - loss: 1.3262 - val_accuracy: 0.0880 - val_loss: 1.3617\n",
            "Epoch 14/40\n",
            "96/96 [==============================] - 9s 90ms/step - accuracy: 0.0945 - loss: 1.3029 - val_accuracy: 0.0886 - val_loss: 1.3545\n",
            "Epoch 15/40\n",
            "96/96 [==============================] - 9s 96ms/step - accuracy: 0.0965 - loss: 1.2803 - val_accuracy: 0.0886 - val_loss: 1.3503\n",
            "Epoch 16/40\n",
            "96/96 [==============================] - 9s 91ms/step - accuracy: 0.0988 - loss: 1.2574 - val_accuracy: 0.0883 - val_loss: 1.3472\n",
            "Epoch 17/40\n",
            "96/96 [==============================] - 9s 89ms/step - accuracy: 0.1010 - loss: 1.2329 - val_accuracy: 0.0885 - val_loss: 1.3484\n",
            "Epoch 18/40\n",
            "96/96 [==============================] - 9s 89ms/step - accuracy: 0.1034 - loss: 1.2084 - val_accuracy: 0.0886 - val_loss: 1.3486\n",
            "Epoch 19/40\n",
            "96/96 [==============================] - 9s 89ms/step - accuracy: 0.1059 - loss: 1.1832 - val_accuracy: 0.0886 - val_loss: 1.3491\n",
            "Epoch 20/40\n",
            "96/96 [==============================] - 9s 93ms/step - accuracy: 0.1083 - loss: 1.1580 - val_accuracy: 0.0873 - val_loss: 1.3632\n",
            "Epoch 21/40\n",
            "96/96 [==============================] - 9s 90ms/step - accuracy: 0.1113 - loss: 1.1308 - val_accuracy: 0.0882 - val_loss: 1.3643\n",
            "Epoch 22/40\n",
            "96/96 [==============================] - 8s 88ms/step - accuracy: 0.1140 - loss: 1.1041 - val_accuracy: 0.0872 - val_loss: 1.3772\n",
            "Epoch 23/40\n",
            "96/96 [==============================] - 8s 88ms/step - accuracy: 0.1172 - loss: 1.0755 - val_accuracy: 0.0881 - val_loss: 1.3843\n",
            "Epoch 24/40\n",
            "96/96 [==============================] - 8s 88ms/step - accuracy: 0.1200 - loss: 1.0474 - val_accuracy: 0.0869 - val_loss: 1.3990\n",
            "Epoch 25/40\n",
            "96/96 [==============================] - 9s 90ms/step - accuracy: 0.1231 - loss: 1.0187 - val_accuracy: 0.0865 - val_loss: 1.4121\n",
            "Epoch 26/40\n",
            "96/96 [==============================] - 9s 90ms/step - accuracy: 0.1264 - loss: 0.9891 - val_accuracy: 0.0854 - val_loss: 1.4358\n",
            "Epoch 27/40\n",
            "96/96 [==============================] - 9s 89ms/step - accuracy: 0.1298 - loss: 0.9600 - val_accuracy: 0.0849 - val_loss: 1.4463\n",
            "Epoch 28/40\n",
            "96/96 [==============================] - 9s 89ms/step - accuracy: 0.1330 - loss: 0.9314 - val_accuracy: 0.0842 - val_loss: 1.4702\n",
            "Epoch 29/40\n",
            "96/96 [==============================] - 9s 90ms/step - accuracy: 0.1364 - loss: 0.9017 - val_accuracy: 0.0835 - val_loss: 1.4893\n",
            "Epoch 30/40\n",
            "96/96 [==============================] - 9s 97ms/step - accuracy: 0.1402 - loss: 0.8707 - val_accuracy: 0.0834 - val_loss: 1.5131\n",
            "Epoch 31/40\n",
            "96/96 [==============================] - 9s 89ms/step - accuracy: 0.1441 - loss: 0.8412 - val_accuracy: 0.0818 - val_loss: 1.5482\n",
            "Epoch 32/40\n",
            "96/96 [==============================] - 8s 87ms/step - accuracy: 0.1478 - loss: 0.8124 - val_accuracy: 0.0820 - val_loss: 1.5687\n",
            "Epoch 33/40\n",
            "96/96 [==============================] - 8s 88ms/step - accuracy: 0.1514 - loss: 0.7843 - val_accuracy: 0.0828 - val_loss: 1.5893\n",
            "Epoch 34/40\n",
            "96/96 [==============================] - 8s 88ms/step - accuracy: 0.1554 - loss: 0.7552 - val_accuracy: 0.0814 - val_loss: 1.6278\n",
            "Epoch 35/40\n",
            "96/96 [==============================] - 8s 88ms/step - accuracy: 0.1593 - loss: 0.7284 - val_accuracy: 0.0808 - val_loss: 1.6581\n",
            "Epoch 36/40\n",
            "96/96 [==============================] - 8s 87ms/step - accuracy: 0.1634 - loss: 0.7013 - val_accuracy: 0.0807 - val_loss: 1.6844\n",
            "Epoch 37/40\n",
            "96/96 [==============================] - 8s 88ms/step - accuracy: 0.1668 - loss: 0.6762 - val_accuracy: 0.0801 - val_loss: 1.7150\n",
            "Epoch 38/40\n",
            "96/96 [==============================] - 9s 91ms/step - accuracy: 0.1705 - loss: 0.6522 - val_accuracy: 0.0787 - val_loss: 1.7433\n",
            "Epoch 39/40\n",
            "96/96 [==============================] - 9s 89ms/step - accuracy: 0.1741 - loss: 0.6289 - val_accuracy: 0.0791 - val_loss: 1.7747\n",
            "Epoch 40/40\n",
            "96/96 [==============================] - 9s 89ms/step - accuracy: 0.1776 - loss: 0.6067 - val_accuracy: 0.0778 - val_loss: 1.8015\n"
          ],
          "name": "stdout"
        }
      ]
    },
    {
      "cell_type": "markdown",
      "metadata": {
        "id": "p8gJ7tBGrT2d",
        "colab_type": "text"
      },
      "source": [
        "## Evaluation"
      ]
    },
    {
      "cell_type": "code",
      "metadata": {
        "id": "Ss1cEtxCrXcf",
        "colab_type": "code",
        "colab": {
          "base_uri": "https://localhost:8080/",
          "height": 428
        },
        "outputId": "565183f5-8ac1-4196-a4d1-300d6d33dad2"
      },
      "source": [
        "evaluate(model,tokenizer,meta)"
      ],
      "execution_count": null,
      "outputs": [
        {
          "output_type": "stream",
          "text": [
            "\n",
            "Evaluate\n",
            "\n",
            "input: Hi, How are you\n",
            "output: hey , lover . whatcha doing ?\n",
            "\n",
            "input: Will you marry me\n",
            "output: no . i promise . i will do my best .\n",
            "\n",
            "input: where did you visit in london\n",
            "output: the situation is perfectly impressive . i do not have to be pratt . i am a reasonable price of a oriites in the middle of a survivent man .\n",
            "\n",
            "input: the situation is perfectly impressive . i do not have to be pratt . i am a reasonable price of a oriites in the middle of a survivent man .\n",
            "output: that is not a problem , jeff . but this is about as long as i am incurable , i am afraid to keep your hair on the south city .\n",
            "\n",
            "input: that is not a problem , jeff . but this is about as long as i am incurable , i am afraid to keep your hair on the south city .\n",
            "output: save it . everything is fine . everything is fine . everything is fine . let us go .\n",
            "\n",
            "input: save it . everything is fine . everything is fine . everything is fine . let us go .\n",
            "output: bye .\n",
            "\n",
            "input: bye .\n",
            "output: bye .\n"
          ],
          "name": "stdout"
        }
      ]
    },
    {
      "cell_type": "markdown",
      "metadata": {
        "id": "2IZRmrG3OiLg",
        "colab_type": "text"
      },
      "source": [
        "## Plotting accuracy and loss graph"
      ]
    },
    {
      "cell_type": "code",
      "metadata": {
        "id": "BxPRYX_mOeNY",
        "colab_type": "code",
        "colab": {}
      },
      "source": [
        "def plot_compare(history, steps=-1):\n",
        "    if steps < 0:\n",
        "        steps = len(history['accuracy'])\n",
        "\n",
        "    acc = history['accuracy'][:steps]\n",
        "    val_acc =history['val_accuracy'][:steps]\n",
        "    loss = history['loss'][:steps]\n",
        "    val_loss = history['val_loss'][:steps]\n",
        "        \n",
        "    plt.figure(figsize=(6, 4))\n",
        "    plt.plot(loss, c='#0c7cba', label='Train Loss')\n",
        "    plt.plot(val_loss, c='#0f9d58', label='Val Loss')\n",
        "    plt.xticks(range(0, len(loss), 5))\n",
        "    plt.xlim(0, len(loss))\n",
        "    plt.title('Train Loss: %.3f, Val Loss: %.3f' % (loss[-1], val_loss[-1]), fontsize=12)\n",
        "    plt.legend()\n",
        "    \n",
        "    plt.figure(figsize=(6, 4))\n",
        "    plt.plot(acc, c='#0c7cba', label='Train Acc')\n",
        "    plt.plot(val_acc, c='#0f9d58', label='Val Acc')\n",
        "    plt.xticks(range(0, len(acc), 5))\n",
        "    plt.xlim(0, len(acc))\n",
        "    plt.title('Train Accuracy: %.3f, Val Accuracy: %.3f' % (acc[-1], val_acc[-1]), fontsize=12)\n",
        "    plt.legend()"
      ],
      "execution_count": null,
      "outputs": []
    },
    {
      "cell_type": "code",
      "metadata": {
        "id": "1FYRYQYMOwvX",
        "colab_type": "code",
        "colab": {
          "base_uri": "https://localhost:8080/",
          "height": 545
        },
        "outputId": "d7dc9e02-fc80-4e1d-c4f3-16c403e49427"
      },
      "source": [
        "plot_compare(history.history)"
      ],
      "execution_count": null,
      "outputs": [
        {
          "output_type": "display_data",
          "data": {
            "image/png": "[encoded data removed]",
            "text/plain": [
              "<Figure size 432x288 with 1 Axes>"
            ]
          },
          "metadata": {
            "tags": [],
            "needs_background": "light"
          }
        },
        {
          "output_type": "display_data",
          "data": {
            "image/png": "[encoded data removed]",
            "text/plain": [
              "<Figure size 432x288 with 1 Axes>"
            ]
          },
          "metadata": {
            "tags": [],
            "needs_background": "light"
          }
        }
      ]
    },
    {
      "cell_type": "markdown",
      "metadata": {
        "id": "3Iz_NOv_O5P1",
        "colab_type": "text"
      },
      "source": [
        "val loss function decreases till about 15 epochs, so model overfitted training dataset.So that shows we should use more samples or less epoch... try changing epochs or sample size"
      ]
    },
    {
      "cell_type": "markdown",
      "metadata": {
        "id": "d5bZfj5MDXLT",
        "colab_type": "text"
      },
      "source": [
        "## ChatBot"
      ]
    },
    {
      "cell_type": "code",
      "metadata": {
        "id": "cZUK3IcWHfZd",
        "colab_type": "code",
        "colab": {}
      },
      "source": [
        "def chatbot(sentence):\n",
        "  ans = predict(model,tokenizer,sentence,meta)\n",
        "  print(\"Q: {}\\nA: {}\\n\".format(sentence,ans))"
      ],
      "execution_count": null,
      "outputs": []
    },
    {
      "cell_type": "code",
      "metadata": {
        "id": "KtpVcgwEIM5w",
        "colab_type": "code",
        "colab": {
          "base_uri": "https://localhost:8080/",
          "height": 68
        },
        "outputId": "e1f6c104-bf69-4d9f-ac79-c547a14adfe7"
      },
      "source": [
        "chatbot('are you mad at me')"
      ],
      "execution_count": null,
      "outputs": [
        {
          "output_type": "stream",
          "text": [
            "Q: are you mad at me\n",
            "A: never . . . no i am no fucking dead !\n",
            "\n"
          ],
          "name": "stdout"
        }
      ]
    },
    {
      "cell_type": "code",
      "metadata": {
        "id": "gxFHS3ktIQHR",
        "colab_type": "code",
        "colab": {
          "base_uri": "https://localhost:8080/",
          "height": 68
        },
        "outputId": "c1baec61-9ed7-4e8f-8f1d-37183ef05f9c"
      },
      "source": [
        "chatbot('lets play something')"
      ],
      "execution_count": null,
      "outputs": [
        {
          "output_type": "stream",
          "text": [
            "Q: lets play something\n",
            "A: you were not gonna mention that name .\n",
            "\n"
          ],
          "name": "stdout"
        }
      ]
    },
    {
      "cell_type": "code",
      "metadata": {
        "id": "rIUEdsGvIbFB",
        "colab_type": "code",
        "colab": {
          "base_uri": "https://localhost:8080/",
          "height": 68
        },
        "outputId": "518b327e-313e-4f95-8057-774bf2348f43"
      },
      "source": [
        "chatbot('hey you fuck off')"
      ],
      "execution_count": null,
      "outputs": [
        {
          "output_type": "stream",
          "text": [
            "Q: hey you fuck off\n",
            "A: i am not sure , you are right .\n",
            "\n"
          ],
          "name": "stdout"
        }
      ]
    },
    {
      "cell_type": "code",
      "metadata": {
        "id": "Mi9H0GD9IjYo",
        "colab_type": "code",
        "colab": {
          "base_uri": "https://localhost:8080/",
          "height": 68
        },
        "outputId": "d3ba00cf-25d7-4ef6-bde9-1e54e03d79fe"
      },
      "source": [
        "chatbot('do you know what are you saying?')"
      ],
      "execution_count": null,
      "outputs": [
        {
          "output_type": "stream",
          "text": [
            "Q: do you know what are you saying?\n",
            "A: i do not know .\n",
            "\n"
          ],
          "name": "stdout"
        }
      ]
    },
    {
      "cell_type": "markdown",
      "metadata": {
        "id": "iruYmePSC96u",
        "colab_type": "text"
      },
      "source": [
        "## Saving model weights, tokenizer in Google drive"
      ]
    },
    {
      "cell_type": "code",
      "metadata": {
        "id": "97vLMZEkItcb",
        "colab_type": "code",
        "colab": {}
      },
      "source": [
        "model.save_weights('transformer_weights.h5')"
      ],
      "execution_count": null,
      "outputs": []
    },
    {
      "cell_type": "code",
      "metadata": {
        "id": "XcbVozc9LfEN",
        "colab_type": "code",
        "colab": {}
      },
      "source": [
        "tokenizer.save_to_file('tokenizer')"
      ],
      "execution_count": null,
      "outputs": []
    },
    {
      "cell_type": "code",
      "metadata": {
        "id": "d0PRptT8LnLJ",
        "colab_type": "code",
        "colab": {}
      },
      "source": [
        "save_pickle(meta,'meta')"
      ],
      "execution_count": null,
      "outputs": []
    },
    {
      "cell_type": "code",
      "metadata": {
        "id": "W9gdY6q0L5aq",
        "colab_type": "code",
        "colab": {}
      },
      "source": [
        "save_pickle(history.history,'history_transformer')"
      ],
      "execution_count": null,
      "outputs": []
    },
    {
      "cell_type": "code",
      "metadata": {
        "id": "hy9CwIqPMFSz",
        "colab_type": "code",
        "colab": {
          "base_uri": "https://localhost:8080/",
          "height": 122
        },
        "outputId": "698dedcb-e144-4ef0-defd-52c1809273a1"
      },
      "source": [
        "from google.colab import drive\n",
        "drive.mount('/content/gdrive')"
      ],
      "execution_count": null,
      "outputs": [
        {
          "output_type": "stream",
          "text": [
            "Go to this URL in a browser: https://accounts.google.com/o/oauth2/auth?client_id=947318989803-6bn6qk8qdgf4n4g3pfee6491hc0brc4i.apps.googleusercontent.com&redirect_uri=urn%3aietf%3awg%3aoauth%3a2.0%3aoob&response_type=code&scope=email%20https%3a%2f%2fwww.googleapis.com%2fauth%2fdocs.test%20https%3a%2f%2fwww.googleapis.com%2fauth%2fdrive%20https%3a%2f%2fwww.googleapis.com%2fauth%2fdrive.photos.readonly%20https%3a%2f%2fwww.googleapis.com%2fauth%2fpeopleapi.readonly\n",
            "\n",
            "Enter your authorization code:\n",
            "··········\n",
            "Mounted at /content/gdrive\n"
          ],
          "name": "stdout"
        }
      ]
    },
    {
      "cell_type": "code",
      "metadata": {
        "id": "hVw83OGUMhvd",
        "colab_type": "code",
        "colab": {}
      },
      "source": [
        "!cp transformer_weights.h5 '/content/gdrive/My Drive/transformer_weights.h5'\n",
        "!cp tokenizer.subwords '/content/gdrive/My Drive/tokenizer.subwords'\n",
        "!cp meta.pickle '/content/gdrive/My Drive/meta.pickle'"
      ],
      "execution_count": null,
      "outputs": []
    },
    {
      "cell_type": "code",
      "metadata": {
        "id": "j5sY6xWu3MQd",
        "colab_type": "code",
        "colab": {}
      },
      "source": [
        ""
      ],
      "execution_count": null,
      "outputs": []
    }
  ]
}